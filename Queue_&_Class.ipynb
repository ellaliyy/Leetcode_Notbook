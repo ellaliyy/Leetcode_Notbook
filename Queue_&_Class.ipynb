{
  "nbformat": 4,
  "nbformat_minor": 0,
  "metadata": {
    "colab": {
      "provenance": [],
      "authorship_tag": "ABX9TyNYQvuYjdDsykiSqhEONQw6",
      "include_colab_link": true
    },
    "kernelspec": {
      "name": "python3",
      "display_name": "Python 3"
    },
    "language_info": {
      "name": "python"
    }
  },
  "cells": [
    {
      "cell_type": "markdown",
      "metadata": {
        "id": "view-in-github",
        "colab_type": "text"
      },
      "source": [
        "<a href=\"https://colab.research.google.com/github/ellaliyy/Leetcode_Notbook/blob/main/Queue_%26_Class.ipynb\" target=\"_parent\"><img src=\"https://colab.research.google.com/assets/colab-badge.svg\" alt=\"Open In Colab\"/></a>"
      ]
    },
    {
      "cell_type": "code",
      "execution_count": 14,
      "metadata": {
        "colab": {
          "base_uri": "https://localhost:8080/"
        },
        "id": "8MMkfeWISq7y",
        "outputId": "fdcca9ce-0700-48d6-c804-24d2086c9cf8"
      },
      "outputs": [
        {
          "output_type": "stream",
          "name": "stdout",
          "text": [
            "deque([3, 4, 5])\n"
          ]
        }
      ],
      "source": [
        "from collections import deque\n",
        "#deque is a double-ended queue which allows appending and popping from both ends efficiently.\n",
        "q = deque([3,4,5])\n",
        "print(q)"
      ]
    },
    {
      "cell_type": "code",
      "source": [
        "q.append(6)#add elements to the right side of the deque\n",
        "print(q)"
      ],
      "metadata": {
        "colab": {
          "base_uri": "https://localhost:8080/"
        },
        "id": "DRikiVidTAL7",
        "outputId": "989918b9-8981-404d-b314-65e1510d7415"
      },
      "execution_count": 15,
      "outputs": [
        {
          "output_type": "stream",
          "name": "stdout",
          "text": [
            "deque([3, 4, 5, 6])\n"
          ]
        }
      ]
    },
    {
      "cell_type": "code",
      "source": [
        "q.extend([7,8,9])#to add more than one elements into the deque\n",
        "print(q)"
      ],
      "metadata": {
        "colab": {
          "base_uri": "https://localhost:8080/"
        },
        "id": "7jsxhkkyTH3D",
        "outputId": "90fbe750-f282-48ba-f0f5-22262a63f83a"
      },
      "execution_count": 16,
      "outputs": [
        {
          "output_type": "stream",
          "name": "stdout",
          "text": [
            "deque([3, 4, 5, 6, 7, 8, 9])\n"
          ]
        }
      ]
    },
    {
      "cell_type": "code",
      "source": [
        "q.pop()#remove the right-most element from the deque"
      ],
      "metadata": {
        "colab": {
          "base_uri": "https://localhost:8080/"
        },
        "id": "52YLGMN6TXXj",
        "outputId": "e80c6597-0681-496f-eb15-55f92d444465"
      },
      "execution_count": 17,
      "outputs": [
        {
          "output_type": "execute_result",
          "data": {
            "text/plain": [
              "9"
            ]
          },
          "metadata": {},
          "execution_count": 17
        }
      ]
    },
    {
      "cell_type": "code",
      "source": [
        "q.popleft()#remove the left-most element from the deque"
      ],
      "metadata": {
        "colab": {
          "base_uri": "https://localhost:8080/"
        },
        "id": "_ddn1dfTTifZ",
        "outputId": "9d6e1524-28ef-440f-c1a5-e9826cbde74a"
      },
      "execution_count": 18,
      "outputs": [
        {
          "output_type": "execute_result",
          "data": {
            "text/plain": [
              "3"
            ]
          },
          "metadata": {},
          "execution_count": 18
        }
      ]
    },
    {
      "cell_type": "code",
      "source": [
        "print(q)"
      ],
      "metadata": {
        "colab": {
          "base_uri": "https://localhost:8080/"
        },
        "id": "tsy3p54XTnjM",
        "outputId": "f866c0da-912c-47b1-f39b-6fb756eff8c0"
      },
      "execution_count": 19,
      "outputs": [
        {
          "output_type": "stream",
          "name": "stdout",
          "text": [
            "deque([4, 5, 6, 7, 8])\n"
          ]
        }
      ]
    },
    {
      "cell_type": "code",
      "source": [
        "q.appendleft(2) #add elements to the left side of the deque\n",
        "print(q)"
      ],
      "metadata": {
        "colab": {
          "base_uri": "https://localhost:8080/"
        },
        "id": "S_DSIYsqUCJq",
        "outputId": "d660dde6-f507-4709-8f34-5302331f2f8c"
      },
      "execution_count": 20,
      "outputs": [
        {
          "output_type": "stream",
          "name": "stdout",
          "text": [
            "deque([2, 4, 5, 6, 7, 8])\n"
          ]
        }
      ]
    },
    {
      "cell_type": "code",
      "source": [
        "class Robot:\n",
        "  def __init__(self, name, age, color):\n",
        "      self.name = name\n",
        "      self.age = age\n",
        "      self.color = color\n",
        "\n",
        "  def introduce_self(self):\n",
        "      print(\"My name is \" + self.name) #the keyword 'self' refers to whatever object we're running this function on\n",
        "      #we need to add 'self' to every method we want to add into the class\n"
      ],
      "metadata": {
        "id": "VLUp4cKTVHSm"
      },
      "execution_count": 21,
      "outputs": []
    },
    {
      "cell_type": "code",
      "source": [
        "#create a new object in the class Robot\n",
        "r1 = Robot(\"Tom\", 4, \"red\")"
      ],
      "metadata": {
        "id": "Jm12qGGOXFDF"
      },
      "execution_count": 22,
      "outputs": []
    },
    {
      "cell_type": "code",
      "source": [
        "r1.introduce_self()"
      ],
      "metadata": {
        "colab": {
          "base_uri": "https://localhost:8080/"
        },
        "id": "kpThkwQJXSA-",
        "outputId": "c26fcd0e-9763-4b34-db94-12646765efdd"
      },
      "execution_count": 23,
      "outputs": [
        {
          "output_type": "stream",
          "name": "stdout",
          "text": [
            "My name is Tom\n"
          ]
        }
      ]
    }
  ]
}